{
 "cells": [
  {
   "cell_type": "code",
   "execution_count": 1,
   "id": "01f7759d",
   "metadata": {
    "scrolled": true
   },
   "outputs": [
    {
     "name": "stdout",
     "output_type": "stream",
     "text": [
      "import 完成\n",
      "处理后数据量1为 100114\n",
      "处理后数据量2为 70439\n"
     ]
    },
    {
     "name": "stderr",
     "output_type": "stream",
     "text": [
      "构造邻接矩阵: 100%|██████████████████████████████████████████████████████████████████████| 2/2 [00:08<00:00,  4.05s/it]\n",
      "阈值限制1: 100%|█████████████████████████████████████████████████████████████████████████| 2/2 [00:00<00:00,  2.98it/s]\n",
      "阈值限制2: 100%|█████████████████████████████████████████████████████████████████████████| 2/2 [00:00<00:00,  2.40it/s]\n",
      "类内矩阵: 100%|██████████████████████████████████████████████████████████████████| 9033/9033 [00:01<00:00, 7017.22it/s]\n",
      "类内矩阵: 100%|████████████████████████████████████████████████████████████████████| 967/967 [00:00<00:00, 6691.72it/s]\n",
      "类间矩阵: 100%|████████████████████████████████████████████████████████████████████| 967/967 [00:00<00:00, 4038.78it/s]\n",
      "类间矩阵: 100%|███████████████████████████████████████████████████████████████████| 9033/9033 [00:21<00:00, 421.11it/s]\n",
      "更新对角线元素: 100%|█████████████████████████████████████████████████████████| 10000/10000 [00:00<00:00, 70672.21it/s]\n",
      "更新对角线元素: 100%|█████████████████████████████████████████████████████████| 10000/10000 [00:00<00:00, 75364.20it/s]\n",
      "更新对角线元素: 100%|█████████████████████████████████████████████████████████| 10000/10000 [00:00<00:00, 64528.35it/s]\n"
     ]
    },
    {
     "name": "stdout",
     "output_type": "stream",
     "text": [
      "计算完成，开始疗治\n"
     ]
    }
   ],
   "source": [
    "import pandas as pd\n",
    "import numpy as np\n",
    "from tqdm import tqdm\n",
    "import torch\n",
    "from sklearn.metrics import roc_auc_score\n",
    "from sklearn.preprocessing import MinMaxScaler, StandardScaler\n",
    "print('import 完成')\n",
    "#计算距离矩阵,这里返回的矩阵是一个张量\n",
    "def construct_adjacency_matrix(data1,data2):\n",
    "    \"\"\"\n",
    "    构建邻接矩阵\n",
    "    \"\"\"\n",
    "    # 将数据转换为张量，并移动到GPU上（如果可用）\n",
    "    data1 = torch.tensor(data1.values).float().to(device)\n",
    "    data2 = torch.tensor(data2.values).float().to(device)\n",
    "    # 计算所有数据点之间的距离矩阵\n",
    "    pairwise_distances = torch.cdist(data1, data2, p=2)  # 计算欧氏距离矩阵\n",
    "    distances_squared = pairwise_distances.pow(2)  # 距离的平方\n",
    "    sigma=torch.mean(pairwise_distances)\n",
    "    similarities = torch.exp(-distances_squared / (2*(sigma ** 2)))  # 高斯核函数计算相似度\n",
    "    return similarities\n",
    "\n",
    "#构建类间矩阵\n",
    "def between_matrix_construct(matrix):\n",
    "\n",
    "    for i in tqdm(indices_1, desc='类间矩阵'):\n",
    "        for j in indices_1:\n",
    "            matrix[i,j]=0\n",
    "    for p in tqdm(indices_2, desc='类间矩阵'):\n",
    "        for q in indices_2:\n",
    "            matrix[p,q]=0\n",
    "    return matrix\n",
    "\n",
    "#构建类内矩阵\n",
    "def zero_matrix(adjacent_matrix,index,len_data):\n",
    "    for i in tqdm(index,desc='类内矩阵'):\n",
    "        adjacent_matrix[i,:]=0\n",
    "        adjacent_matrix[:,i]=0\n",
    "    return adjacent_matrix\n",
    "\n",
    "#计算权重矩阵Wii，构建对角线元素，其中对角线元素设为-值，最后返回负值，得到的矩阵matrix为拉普拉斯矩阵\n",
    "def calculate_diag(matrix):\n",
    "    # 获取矩阵的行数\n",
    "    rows, cols = matrix.shape\n",
    "    # 遍历矩阵的每一行\n",
    "    for i in tqdm(range(rows),desc='更新对角线元素'):\n",
    "        # 计算当前行（除对角线元素）的和\n",
    "        row_sum = matrix[i].sum() - matrix[i, i]\n",
    "        # 更新对角线元素\n",
    "        matrix[i, i] = -row_sum\n",
    "    return -matrix\n",
    "\n",
    "#读入数据\n",
    "df=pd.read_csv(r'C:\\Users\\mls\\Desktop\\医疗大数据\\data_welldisposed_simplify.csv')\n",
    "readmitted_mapping={0:0,1:0,2:1}\n",
    "df['readmitted']=df['readmitted'].map(readmitted_mapping)\n",
    "feature_label=['gender', 'age', 'admission_type_id',\n",
    "       'discharge_disposition_id', 'admission_source_id', 'time_in_hospital',\n",
    "       'num_lab_procedures', 'num_procedures',\n",
    "       'num_medications', 'number_outpatient', 'number_emergency',\n",
    "       'number_inpatient', 'diag_1', 'diag_2', 'diag_3', 'number_diagnoses',\n",
    "       'max_glu_serum', 'A1Cresult', 'metformin', 'repaglinide', 'nateglinide',\n",
    "       'glimepiride', 'glipizide', 'glyburide', 'pioglitazone',\n",
    "       'rosiglitazone', 'insulin', 'glyburide-metformin', 'change',\n",
    "       'diabetesMed']\n",
    "# 找到需要删除的行的索引\n",
    "indices_to_drop = []\n",
    "for id, i in enumerate(df['discharge_disposition_id']):\n",
    "    if i in [11, 20, 19, 21]:\n",
    "        indices_to_drop.append(id)\n",
    "# 删除指定索引的行\n",
    "df = df.drop(indices_to_drop)\n",
    "# 重置索引\n",
    "df = df.reset_index(drop=True)\n",
    "print('处理后数据量1为', df.shape[0])\n",
    "#数据预处理部分\n",
    "#删除重复就诊患者的数据，只保留第一次就诊\n",
    "df=df.drop_duplicates(subset='patient_nbr',inplace=False)\n",
    "df = df.reset_index(drop=True)\n",
    "print('处理后数据量2为',df.shape[0])\n",
    "min_max_scaler = MinMaxScaler()\n",
    "df[feature_label] = min_max_scaler.fit_transform(df[feature_label])\n",
    "#读入数据的条数\n",
    "len_data=10000\n",
    "# 获取1和0的数据索引，以便构造三类矩阵\n",
    "indices_1 = df.index[df['readmitted'] == 1].tolist()\n",
    "indices_2 = df.index[df['readmitted'] == 0].tolist()\n",
    "indices_1 = [x for x in indices_1 if x < len_data]\n",
    "indices_2 = [x for x in indices_2 if x < len_data]\n",
    "data=df[feature_label].head(len_data)\n",
    "\n",
    "'''\n",
    "coef=np.array([[ 0.01248047,  0.06639448, -0.0282276 ,  0.1211645 , -0.02375634,\n",
    "         0.05291078,  0.00939809, -0.0410713 ,  0.03768097, -0.00803223,\n",
    "         0.03035206,  0.33367485,  0.04997268,  0.04298992,  0.02948664,\n",
    "         0.09522829,  0.02480421, -0.03751137, -0.06285053,  0.01141899,\n",
    "         0.01016457, -0.01738416, -0.00413986, -0.00754439, -0.02845116,\n",
    "        -0.01422896, -0.01753783, -0.00915579,  0.01115918,  0.09878155]])\n",
    "\n",
    "df[feature_label] = df[feature_label].multiply(coef, axis=1)\n",
    "'''\n",
    "data=df[feature_label].head(len_data)\n",
    "\n",
    "\n",
    "#batch_size是分割计算时的划分，sigma是在高斯核函数的参数\n",
    "batch_size=5000\n",
    "# 使用GPU进行计算,device设为cuda esle cpu\n",
    "device = torch.device('cuda' if torch.cuda.is_available() else 'cpu')\n",
    "#初始化距离矩阵,这里的距离矩阵是np矩阵\n",
    "adjacency_matrix = np.zeros((len_data, len_data),dtype=np.float32)\n",
    "#调用计算距离矩阵函数，分batch计算距离矩阵\n",
    "for i in tqdm(range(0,len_data,batch_size),desc='构造邻接矩阵'):\n",
    "    for j in range(0,len_data,batch_size):\n",
    "        data_1=data[i:i+batch_size]\n",
    "        data_2=data[j:j+batch_size]\n",
    "        adjacency_matrix1=construct_adjacency_matrix(data_1,data_2).cpu().numpy()\n",
    "        adjacency_matrix[i:i+batch_size,j:j+batch_size]=adjacency_matrix1.copy()\n",
    "#开始阈值筛选，首先计算行的平均值，代表每个数据点与其他数据点的距离平均值        \n",
    "row_means = adjacency_matrix.mean(axis=1)\n",
    "matrix_1=adjacency_matrix.copy()#现在matrix_1是距离矩阵\n",
    "#分batch进行阈值限制，保存结果为matrix_1，返回值为原来距离\n",
    "for i in tqdm(range(0,len_data,batch_size),desc='阈值限制1'):\n",
    "    for j in range(0,len_data,batch_size):\n",
    "        matrix_1[i:i+batch_size,j:j+batch_size]= np.where(matrix_1[i:i+batch_size,j:j+batch_size] > row_means[i:i+batch_size, np.newaxis],matrix_1[i:i+batch_size,j:j+batch_size], 0)\n",
    "\n",
    "#分batch进行阈值限制，保存结果为adjacency_matrix，返回值为1,也就是邻接矩阵\n",
    "for i in tqdm(range(0,len_data,batch_size),desc='阈值限制2'):\n",
    "    for j in range(0,len_data,batch_size):\n",
    "        adjacency_matrix[i:i+batch_size,j:j+batch_size]= np.where(adjacency_matrix[i:i+batch_size,j:j+batch_size] > row_means[i:i+batch_size, np.newaxis],1, 0)\n",
    "\n",
    "\n",
    "matrix_p=zero_matrix(matrix_1.copy(),indices_2,len_data)\n",
    "matrix_n=zero_matrix(matrix_1,indices_1,len_data)\n",
    "matrix_between=between_matrix_construct(adjacency_matrix)\n",
    "\n",
    "matrix_p=calculate_diag(matrix_p)\n",
    "matrix_n=calculate_diag(matrix_n)\n",
    "matrix_between=calculate_diag(matrix_between)\n",
    "print('计算完成，开始疗治')"
   ]
  },
  {
   "cell_type": "code",
   "execution_count": 2,
   "id": "98120e18",
   "metadata": {},
   "outputs": [
    {
     "name": "stdout",
     "output_type": "stream",
     "text": [
      "处理后数据量1为 100114\n"
     ]
    }
   ],
   "source": [
    "#定义C矩阵\n",
    "C_ij=(df['readmitted'].head(len_data)==0).sum()/(df['readmitted'].head(len_data)==1).sum()\n",
    "C=df['readmitted'].head(len_data).copy()\n",
    "C.replace(1,C_ij,inplace=True)\n",
    "C.replace(0,1,inplace=True)\n",
    "C=torch.tensor(C,dtype=torch.float64)\n",
    "\n",
    "#D=torch.rand(len_data,dtype=torch.float64).to(device)\n",
    "#定义X矩阵\n",
    "X=torch.tensor(df[feature_label].values[0:len_data,:],dtype=torch.float64).to(device)\n",
    "#定义W矩阵,初始化全部为1\n",
    "W= torch.rand(30,dtype=torch.float64).to(device)\n",
    "#读入数据\n",
    "df=pd.read_csv(r'C:\\Users\\mls\\Desktop\\医疗大数据\\data_welldisposed_simplify.csv')\n",
    "feature_label=['gender', 'age', 'admission_type_id',\n",
    "       'discharge_disposition_id', 'admission_source_id', 'time_in_hospital',\n",
    "       'num_lab_procedures', 'num_procedures',\n",
    "       'num_medications', 'number_outpatient', 'number_emergency',\n",
    "       'number_inpatient', 'diag_1', 'diag_2', 'diag_3', 'number_diagnoses',\n",
    "       'max_glu_serum', 'A1Cresult', 'metformin', 'repaglinide', 'nateglinide',\n",
    "       'glimepiride', 'glipizide', 'glyburide', 'pioglitazone',\n",
    "       'rosiglitazone', 'insulin', 'glyburide-metformin', 'change',\n",
    "       'diabetesMed']\n",
    "readmitted_mapping={0:0,1:0,2:1}\n",
    "df['readmitted']=df['readmitted'].map(readmitted_mapping)\n",
    "# 找到需要删除的行的索引\n",
    "indices_to_drop = []\n",
    "for id, i in enumerate(df['discharge_disposition_id']):\n",
    "    if i in [11, 20, 19, 21]:\n",
    "        indices_to_drop.append(id)\n",
    "# 删除指定索引的行\n",
    "df = df.drop(indices_to_drop)\n",
    "# 重置索引\n",
    "df = df.reset_index(drop=True)\n",
    "print('处理后数据量1为', df.shape[0])\n",
    "#数据预处理部分\n",
    "#删除重复就诊患者的数据，只保留第一次就诊\n",
    "df=df.drop_duplicates(subset='patient_nbr',inplace=False)\n",
    "df = df.reset_index(drop=True)\n",
    "#定义D矩阵（标签增强矩阵）,这里定义了device\n",
    "D=torch.tensor(df['readmitted'][0:len_data]/2,dtype=torch.float64).to(device)\n",
    "\n",
    "# W 的求导定义\n",
    "#定义U矩阵求解\n",
    "def U_calculate(matrix):\n",
    "    diag_m=torch.diag(matrix)\n",
    "    return diag_m\n",
    "\n",
    "\n",
    "#定义W的范数求解\n",
    "def L_calculate(tensor):\n",
    "    # 计算张量中每个元素的倒数的一半\n",
    "    reciprocal_half_tensor =0.5*torch.reciprocal(tensor*tensor)\n",
    "    # 构造对角矩阵\n",
    "    diagonal_matrix = torch.diag(reciprocal_half_tensor)\n",
    "    return diagonal_matrix\n",
    "\n",
    "\n",
    "#定义D的限制条件\n",
    "def D_cons(tensor):\n",
    "    # 将大于1的值变为1\n",
    "    tensor[tensor > 1] = 1\n",
    "    # 将小于0的值变为0\n",
    "    tensor[tensor < 0] = 0\n",
    "    return tensor\n",
    "\n",
    "def auc_calculate(matrix,len_data,len):\n",
    "    matrix_W=matrix.clone().to('cpu').numpy()\n",
    "    df_matrix=np.asarray(df[feature_label].values[int(len_data):int(len_data+len),:])\n",
    "    pre_prob=df_matrix@(matrix_W.T)\n",
    "    auc=roc_auc_score(df['readmitted'][int(len_data):int(len_data+len)],pre_prob)\n",
    "    return auc\n",
    "\n",
    "# D 的求导定义\n",
    "gama=10\n",
    "alpha=0.5\n",
    "beta=0.2\n",
    "#初始值定义\n",
    "X=X.to(device)\n",
    "D=D.to(device)\n",
    "U=U_calculate(C).to(device)\n",
    "L=L_calculate(W).to(device)\n"
   ]
  },
  {
   "cell_type": "code",
   "execution_count": 20,
   "id": "6c9437f7",
   "metadata": {},
   "outputs": [
    {
     "data": {
      "text/plain": [
       "tensor([ 0.0000e+00,  4.3416e-01, -5.0632e-01,  0.0000e+00,  0.0000e+00,\n",
       "         0.0000e+00,  1.7745e-01,  0.0000e+00,  0.0000e+00,  0.0000e+00,\n",
       "         0.0000e+00,  0.0000e+00, -2.0766e-16,  2.1026e-16, -6.0450e-16,\n",
       "         2.2974e-01,  0.0000e+00,  0.0000e+00,  0.0000e+00,  0.0000e+00,\n",
       "         0.0000e+00,  0.0000e+00,  0.0000e+00,  0.0000e+00,  0.0000e+00,\n",
       "         0.0000e+00,  0.0000e+00,  0.0000e+00,  0.0000e+00,  0.0000e+00],\n",
       "       device='cuda:0', dtype=torch.float64)"
      ]
     },
     "execution_count": 20,
     "metadata": {},
     "output_type": "execute_result"
    }
   ],
   "source": [
    "W"
   ]
  },
  {
   "cell_type": "code",
   "execution_count": 12,
   "id": "3d6ab91f",
   "metadata": {},
   "outputs": [
    {
     "data": {
      "text/plain": [
       "tensor([ 0.0000e+00,  8.4315e-01, -9.7395e-01,  0.0000e+00,  0.0000e+00,\n",
       "         0.0000e+00,  3.4062e-01,  0.0000e+00,  0.0000e+00,  0.0000e+00,\n",
       "         0.0000e+00,  0.0000e+00,  1.5101e-15,  4.3421e-16, -3.9859e-16,\n",
       "         4.5188e-01,  0.0000e+00,  0.0000e+00,  0.0000e+00,  0.0000e+00,\n",
       "         0.0000e+00,  0.0000e+00,  0.0000e+00,  0.0000e+00,  0.0000e+00,\n",
       "         0.0000e+00,  0.0000e+00,  0.0000e+00,  0.0000e+00,  1.2281e+00],\n",
       "       device='cuda:0', dtype=torch.float64)"
      ]
     },
     "execution_count": 12,
     "metadata": {},
     "output_type": "execute_result"
    }
   ],
   "source": [
    "W"
   ]
  },
  {
   "cell_type": "code",
   "execution_count": 15,
   "id": "d80a8778",
   "metadata": {},
   "outputs": [],
   "source": [
    "np.save('W_权重矩阵.npy', W.cpu())"
   ]
  },
  {
   "cell_type": "code",
   "execution_count": 16,
   "id": "22818925",
   "metadata": {},
   "outputs": [],
   "source": [
    "np.save('D_数值标签.npy',D.cpu())"
   ]
  },
  {
   "cell_type": "code",
   "execution_count": null,
   "id": "2598424c",
   "metadata": {},
   "outputs": [],
   "source": [
    "tensor([ 0.0000e+00,  8.4315e-01, -9.7395e-01,  0.0000e+00,  0.0000e+00,\n",
    "         0.0000e+00,  3.4062e-01,  0.0000e+00,  0.0000e+00,  0.0000e+00,\n",
    "         0.0000e+00,  0.0000e+00,  1.5101e-15,  4.3421e-16, -3.9859e-16,\n",
    "         4.5188e-01,  0.0000e+00,  0.0000e+00,  0.0000e+00,  0.0000e+00,\n",
    "         0.0000e+00,  0.0000e+00,  0.0000e+00,  0.0000e+00,  0.0000e+00,\n",
    "         0.0000e+00,  0.0000e+00,  0.0000e+00,  0.0000e+00,  1.2281e+00],\n",
    "       device='cuda:0', dtype=torch.float64)"
   ]
  },
  {
   "cell_type": "code",
   "execution_count": 13,
   "id": "d0f2f401",
   "metadata": {},
   "outputs": [
    {
     "name": "stdout",
     "output_type": "stream",
     "text": [
      "[0.5        0.5361236  0.55725455 0.5722472  0.5838764  0.59337815\n",
      " 0.60141176 0.6083708  0.6145091  0.62       0.62496712 0.62950175\n",
      " 0.6336732  0.63753536 0.64113095 0.6444944  0.64765387 0.6506327\n",
      " 0.65345043 0.6561236  0.65866632 0.66109072 0.66340734 0.66562535\n",
      " 0.6677528  0.6697968  0.67176365 0.67365896 0.67548776 0.67725455\n",
      " 0.6789634  0.680618   0.68222167 0.68377747 0.68528817 0.6867563\n",
      " 0.68818421 0.68957403 0.69092775 0.6922472  0.69353406 0.69478991\n",
      " 0.69601621 0.69721432 0.6983855  0.69953094 0.70065174 0.70174895\n",
      " 0.70282353 0.7038764  0.70490842 0.7059204  0.7069131  0.70788725\n",
      " 0.70884352 0.70978256 0.71070498 0.71161136 0.71250224 0.71337815\n",
      " 0.71423958 0.715087   0.71592087 0.7167416  0.7175496  0.71834527\n",
      " 0.71912898 0.71990107 0.72066189 0.72141176 0.722151   0.7228799\n",
      " 0.72359874 0.72430781 0.72500735 0.72569763 0.72637889 0.72705135\n",
      " 0.72771525 0.7283708  0.7290182  0.72965766 0.73028937 0.73091351\n",
      " 0.73153027 0.73213981 0.73274231 0.73333792 0.7339268  0.7345091\n",
      " 0.73508497 0.73565454 0.73621795 0.73677534 0.73732683 0.73787255\n",
      " 0.73841261 0.73894713 0.73947622 0.74      ]\n"
     ]
    }
   ],
   "source": []
  },
  {
   "cell_type": "code",
   "execution_count": 16,
   "id": "8baee669",
   "metadata": {},
   "outputs": [
    {
     "data": {
      "image/png": "[encoded data removed]",
      "text/plain": [
       "<Figure size 1200x600 with 1 Axes>"
      ]
     },
     "metadata": {},
     "output_type": "display_data"
    }
   ],
   "source": [
    "import matplotlib.pyplot as plt\n",
    "matrix_p = torch.tensor(matrix_p, dtype=torch.float64).to(device)\n",
    "matrix_between = torch.tensor(matrix_between, dtype=torch.float64).to(device)\n",
    "\n",
    "# 创建初始图形\n",
    "plt.figure()\n",
    "plt.xlabel('Iterations')\n",
    "plt.ylabel('AUC')\n",
    "plt.title('Real-time AUC during iterations')\n",
    "plt.grid(True)\n",
    "\n",
    "# step 1 更新W\n",
    "iterations = 1000\n",
    "auc_values = []\n",
    "for i in range(iterations):\n",
    "    W = (torch.linalg.inv((X.T)@(U.T)@U@X + gama*L))@(X.T)@(U.T)@U@D\n",
    "    L = L_calculate(W)\n",
    "    D = (torch.linalg.inv((U.T)@U + alpha*matrix_p + beta*matrix_between))@(U.T)@U@X@W\n",
    "    D = D_cons(D)\n",
    "    auc = auc_calculate(W, len_data,1000)\n",
    "    auc_values.append(auc)\n",
    "    # 实时绘制AUC折线图\n",
    "    plt.plot(range(i+1), auc_values, marker='o', color='blue')  # 更新折线图数据\n",
    "    plt.pause(0.1)  # 暂停一小段时间以更新图形\n",
    "\n",
    "plt.show()  # 显示最终的AUC折线图"
   ]
  },
  {
   "cell_type": "code",
   "execution_count": null,
   "id": "3d189aa9",
   "metadata": {},
   "outputs": [],
   "source": [
    "learning_rate=0.000001\n",
    "iterations=30\n",
    "matrix_p=torch.tensor(matrix_p,dtype=torch.float64).to(device)\n",
    "matrix_between=torch.tensor(matrix_between,dtype=torch.float64).to(device)\n",
    "for i in range(iterations):\n",
    "    Gra_W=(X.T)@(U.T)@(U@X@W-U@D)+gama*L@W\n",
    "    W=W-Gra_W*learning_rate\n",
    "    Gra_D=(U.T)@(U@X@W-U@D)+alpha*matrix_p@D+beta*matrix_between@D\n",
    "    D=D-Gra_D*learning_rate\n",
    "    #D=D_cons(D)\n",
    "    print(auc_calculate(W,len_data))"
   ]
  }
 ],
 "metadata": {
  "kernelspec": {
   "display_name": "pytorch-gpu",
   "language": "python",
   "name": "pytorch-gpu"
  },
  "language_info": {
   "codemirror_mode": {
    "name": "ipython",
    "version": 3
   },
   "file_extension": ".py",
   "mimetype": "text/x-python",
   "name": "python",
   "nbconvert_exporter": "python",
   "pygments_lexer": "ipython3",
   "version": "3.9.18"
  }
 },
 "nbformat": 4,
 "nbformat_minor": 5
}
